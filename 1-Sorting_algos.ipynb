{
 "cells": [
  {
   "cell_type": "markdown",
   "id": "3ab25210",
   "metadata": {},
   "source": [
    "### This notebook contains the following sorting algorithms\n",
    "#### 1. Bubble Sort, 2. Selection Sort, 3. Insertion Sort\n"
   ]
  },
  {
   "cell_type": "markdown",
   "id": "f5648bc1",
   "metadata": {},
   "source": [
    "#### 1. Bubble Sort: Works by repeatedly stepping through the list, comparing adjacent elements and swapping them if they are in the wrong order\n",
    "#####  How it works:\n",
    "####  Go through the array, one value at a time.\n",
    "####  For each value, compare the value with the next value.\n",
    "#### If the value is higher than the next one, swap the values so that the highest value comes last.\n",
    "##### Go through the array as many times as there are values in the array."
   ]
  },
  {
   "cell_type": "code",
   "execution_count": null,
   "id": "362806d5",
   "metadata": {},
   "outputs": [
    {
     "data": {
      "text/plain": [
       "[1, 2, 3, 4, 5]"
      ]
     },
     "execution_count": 6,
     "metadata": {},
     "output_type": "execute_result"
    }
   ],
   "source": [
    "def bubble_sort(array):\n",
    "    # loop through the len of array\n",
    "    for i in range(len(array)):\n",
    "        # loop through one less of len of array and -i to avoid the last element check as it is already sorted\n",
    "        for j in range(len(array)-1-i):\n",
    "            # check if the first element is less than the next  \n",
    "            if array[j] > array[j+1]:\n",
    "                array[j], array[j+1] = array[j+1], array[j]\n",
    "    return array\n",
    "array = [2, 1, 4, 3, 5]\n",
    "bubble_sort(array)"
   ]
  },
  {
   "cell_type": "markdown",
   "id": "4964e5da",
   "metadata": {},
   "source": [
    "#### 2. Selection Sort: It sorts an array by repeatedly selecting the smallest (or largest) element from the unsorted portion and swapping it with the first unsorted element.\n",
    "##### Steps:\n",
    "##### First we find the smallest element and swap it with the first element. This way we get the smallest element at its correct position.\n",
    "##### Then we find the smallest among remaining elements (or second smallest) and swap it with the second element.\n",
    "##### We keep doing this until we get all elements moved to correct position."
   ]
  },
  {
   "cell_type": "code",
   "execution_count": 12,
   "id": "eb92fd23",
   "metadata": {},
   "outputs": [
    {
     "data": {
      "text/plain": [
       "[1, 2, 3, 4, 5]"
      ]
     },
     "execution_count": 12,
     "metadata": {},
     "output_type": "execute_result"
    }
   ],
   "source": [
    "def selection_sort(array):\n",
    "    # loop through the lats element\n",
    "    for i in range(len(array)-1):\n",
    "        # set the minimun index i suppose it is the min index for now \n",
    "        min_index = i\n",
    "        # loop through the array from the next element of i\n",
    "        for j in range(i+1, len(array)):\n",
    "            # check if the j is less than the min index\n",
    "            if array[j] < array[min_index]:\n",
    "                # make the j as the minimum index now\n",
    "                min_index = j\n",
    "        # swap the i and minindex values\n",
    "        array[i], array[min_index] = array[min_index], array[i]\n",
    "        \n",
    "    return array\n",
    "array = [2, 1, 4, 3, 5]\n",
    "selection_sort(array)"
   ]
  },
  {
   "cell_type": "markdown",
   "id": "5bda6e9f",
   "metadata": {},
   "source": [
    "#### 3. Insertion Sort: Works by iteratively inserting each element of an unsorted list into its correct position in a sorted portion of the list.\n",
    "##### Steps\n",
    "##### We start with the second element of the array as the first element is assumed to be sorted.\n",
    "##### Compare the second element with the first element if the second element is smaller then swap them.\n",
    "##### Move to the third element, compare it with the first two elements, and put it in its correct position\n",
    "##### Repeat until the entire array is sorted."
   ]
  },
  {
   "cell_type": "code",
   "execution_count": null,
   "id": "dca44f6f",
   "metadata": {},
   "outputs": [],
   "source": [
    "def insertion_sort(array):\n",
    "    for i in range(1, len(array)):\n",
    "        element = array[i]\n",
    "        for j in range(i-1, len(array)):\n",
    "            "
   ]
  }
 ],
 "metadata": {
  "kernelspec": {
   "display_name": "Python 3",
   "language": "python",
   "name": "python3"
  },
  "language_info": {
   "codemirror_mode": {
    "name": "ipython",
    "version": 3
   },
   "file_extension": ".py",
   "mimetype": "text/x-python",
   "name": "python",
   "nbconvert_exporter": "python",
   "pygments_lexer": "ipython3",
   "version": "3.13.1"
  }
 },
 "nbformat": 4,
 "nbformat_minor": 5
}
